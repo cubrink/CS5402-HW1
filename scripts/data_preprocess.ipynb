{
 "cells": [
  {
   "cell_type": "code",
   "execution_count": 2,
   "metadata": {},
   "outputs": [],
   "source": [
    "# data_preprocessing\n",
    "#\n",
    "# Prepare data from census.csv for analysis\n",
    "\n",
    "# Imports\n",
    "\n",
    "import pandas as pd\n",
    "from datetime import datetime\n",
    "from feature_engine.discretisers import EqualWidthDiscretiser, EqualFrequencyDiscretiser\n",
    "\n",
    "# Load data\n",
    "\n",
    "DATA_SOURCE = r'../data/census.csv'\n",
    "df = pd.read_csv(DATA_SOURCE)\n",
    "\n",
    "# Sanitize date format\n",
    "\n",
    "df['date'] = pd.to_datetime(df['date'])\n",
    "df['date'] = df['date'].apply(lambda x: x.replace(year=1994).date().strftime('%m/%d/%Y'))\n",
    "\n",
    "# Discretisation\n",
    "\n",
    "age_discretiser = EqualWidthDiscretiser(bins=10, variables=['age'])\n",
    "hpw_discretiser = EqualFrequencyDiscretiser(q=5, variables=['hours-per-week'])\n",
    "\n",
    "df = age_discretiser.fit_transform(df)\n",
    "df = hpw_discretiser.fit_transform(df)\n",
    "\n",
    "# Value replacement\n",
    "\n",
    "# Workclass:       ? -> Other\n",
    "# Occupation:      ? -> Other\n",
    "# Native-country:  ? -> Unspecified\n",
    "\n",
    "# Sex:             Starts with f -> female\n",
    "#                  Starts with m -> male\n",
    "\n",
    "\n",
    "df['workclass'].replace(to_replace='\\?', value='Other', inplace=True, regex=True)\n",
    "df['occupation'].replace(to_replace='\\?', value='Other', inplace=True, regex=True)\n",
    "df['native-country'].replace(to_replace='\\?', value='Unspecified', inplace=True, regex=True)\n",
    "\n",
    "df['sex'].replace(['^(\\W)*[Ff].*', '^(\\W)*[Mm].*'], ['Female', 'Male'], inplace=True, regex=True)\n",
    "\n",
    "# Value normalization\n",
    "\n",
    "# Normalize population-wgt\n",
    "wgt = df['population-wgt']\n",
    "df['population-wgt'] = (wgt-wgt.min())/(wgt.max() - wgt.min())\n",
    "\n",
    "# Write sanitzed data to file\n",
    "\n",
    "SAVE_LOCATION = r'../data/census_sanitized.csv'\n",
    "\n",
    "df.to_csv(SAVE_LOCATION, index=False)\n"
   ]
  }
 ],
 "metadata": {
  "kernelspec": {
   "display_name": "Python 3",
   "language": "python",
   "name": "python3"
  },
  "language_info": {
   "codemirror_mode": {
    "name": "ipython",
    "version": 3
   },
   "file_extension": ".py",
   "mimetype": "text/x-python",
   "name": "python",
   "nbconvert_exporter": "python",
   "pygments_lexer": "ipython3",
   "version": "3.8.2"
  }
 },
 "nbformat": 4,
 "nbformat_minor": 4
}
